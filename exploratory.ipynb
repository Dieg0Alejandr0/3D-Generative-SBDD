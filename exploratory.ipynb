{
 "cells": [
  {
   "cell_type": "markdown",
   "id": "8b4bbecb-4ba2-472d-a4ee-56eaf407ba3c",
   "metadata": {},
   "source": [
    "## CrossDocked Summary Statistics"
   ]
  },
  {
   "cell_type": "code",
   "execution_count": 25,
   "id": "0e921c19-c34a-424a-aad2-44e81c0482cf",
   "metadata": {},
   "outputs": [],
   "source": [
    "import os\n",
    "from rdkit import Chem\n",
    "from explore_utils import *\n",
    "import torch\n",
    "import matplotlib.pyplot as plt"
   ]
  },
  {
   "cell_type": "code",
   "execution_count": 4,
   "id": "e1972824-1f6b-4edb-a2c3-e0c94a990bf5",
   "metadata": {},
   "outputs": [],
   "source": [
    "summary = torch.load('summary_stats.pt')"
   ]
  },
  {
   "cell_type": "code",
   "execution_count": 26,
   "id": "2639dadc-9613-4a01-a5c8-5f4c611c0048",
   "metadata": {},
   "outputs": [],
   "source": [
    "def get_stats(dictionary, stat):\n",
    "    \n",
    "    stats = np.array([dictionary[item][stat] for item in dictionary])\n",
    "    return stats, stats.mean(), stats.std()"
   ]
  },
  {
   "cell_type": "code",
   "execution_count": 13,
   "id": "eecfd36d-8732-4e59-915c-784cf31e800a",
   "metadata": {},
   "outputs": [],
   "source": [
    "pockets = summary['pockets']\n",
    "ligands = summary['ligands']"
   ]
  },
  {
   "cell_type": "code",
   "execution_count": 14,
   "id": "33efda32-1515-42ac-a6e3-961456e72297",
   "metadata": {},
   "outputs": [
    {
     "name": "stdout",
     "output_type": "stream",
     "text": [
      "Number of bad pockets:  109\n",
      "Number of bad ligands:  47\n"
     ]
    }
   ],
   "source": [
    "print('Number of bad pockets: ', len(summary[\"bad_proteins\"]))\n",
    "print('Number of bad ligands: ', len(summary[\"bad_ligands\"]))"
   ]
  },
  {
   "cell_type": "code",
   "execution_count": 15,
   "id": "fa069f08-36e1-48e1-90ef-083183194d79",
   "metadata": {},
   "outputs": [
    {
     "name": "stdout",
     "output_type": "stream",
     "text": [
      "Number of unique pockets:  144830\n",
      "Number of unique ligands:  13952\n"
     ]
    }
   ],
   "source": [
    "num_pockets = len(summary[\"pockets\"])\n",
    "num_ligands = len(summary[\"ligands\"])\n",
    "print('Number of unique pockets: ', num_pockets)\n",
    "print('Number of unique ligands: ', num_ligands)"
   ]
  },
  {
   "cell_type": "code",
   "execution_count": 28,
   "id": "326f39e4-516c-4532-ae1f-2d32211f2cd9",
   "metadata": {},
   "outputs": [
    {
     "name": "stdout",
     "output_type": "stream",
     "text": [
      "pocket residues (mean, std):  (51.2028309051992, 11.923966131411023)\n"
     ]
    }
   ],
   "source": [
    "print('pocket residues (mean, std): ', get_stats(pockets, 'residues')[1:])"
   ]
  },
  {
   "cell_type": "code",
   "execution_count": 29,
   "id": "e8c12a45-52f0-45f5-a6dc-7b16d1f78df3",
   "metadata": {},
   "outputs": [
    {
     "name": "stdout",
     "output_type": "stream",
     "text": [
      "pocket atoms (mean, std):  (416.8028309051992, 118.99816136652014)\n",
      "ligand atoms (mean, std):  (25.56522362385321, 9.449856523253892)\n"
     ]
    }
   ],
   "source": [
    "print('pocket atoms (mean, std): ', get_stats(pockets, 'atoms')[1:])\n",
    "print('ligand atoms (mean, std): ', get_stats(ligands, 'atoms')[1:])"
   ]
  },
  {
   "cell_type": "code",
   "execution_count": 30,
   "id": "c5cacfad-bf4c-4223-932f-5b5a7b8e7d50",
   "metadata": {},
   "outputs": [
    {
     "name": "stdout",
     "output_type": "stream",
     "text": [
      "pocket bonds (mean, std):  (413.2228958088794, 118.95636358075343)\n",
      "ligand bonds (mean, std):  (27.58256880733945, 10.64401590537563)\n"
     ]
    }
   ],
   "source": [
    "print('pocket bonds (mean, std): ', get_stats(pockets, 'bonds')[1:])\n",
    "print('ligand bonds (mean, std): ', get_stats(ligands, 'bonds')[1:])"
   ]
  },
  {
   "cell_type": "code",
   "execution_count": 31,
   "id": "a7653bdb-71d5-4dd0-bf5a-c8c9435e80ac",
   "metadata": {},
   "outputs": [
    {
     "name": "stdout",
     "output_type": "stream",
     "text": [
      "pocket heavy atoms (mean, std):  (401.5289926120279, 89.9833020084121)\n",
      "ligand heavy atoms (mean, std):  (25.45075974770642, 9.402994029979457)\n"
     ]
    }
   ],
   "source": [
    "print('pocket heavy atoms (mean, std): ', get_stats(pockets, 'heavy')[1:])\n",
    "print('ligand heavy atoms (mean, std): ', get_stats(ligands, 'heavy')[1:])"
   ]
  },
  {
   "cell_type": "code",
   "execution_count": 35,
   "id": "f042bffe-94ed-4765-85c4-87bd73aa26fe",
   "metadata": {},
   "outputs": [
    {
     "data": {
      "image/png": "[encoded data removed]",
      "text/plain": [
       "<Figure size 432x288 with 1 Axes>"
      ]
     },
     "metadata": {
      "needs_background": "light"
     },
     "output_type": "display_data"
    }
   ],
   "source": [
    "hist = plt.hist(get_stats(pockets,'residues')[0], bins='auto')  "
   ]
  },
  {
   "cell_type": "markdown",
   "id": "97e1994e-cfe3-4fd7-b9ed-96d18b498f41",
   "metadata": {},
   "source": [
    "## SBDD-3D Samples"
   ]
  },
  {
   "cell_type": "code",
   "execution_count": 21,
   "id": "6323fac3-270c-49a4-bdd9-1c280bd17aec",
   "metadata": {},
   "outputs": [],
   "source": [
    "from rdkit import Chem\n",
    "from rdkit.Chem.Draw import IPythonConsole\n",
    "from rdkit.Chem import rdDepictor\n",
    "from rdkit.Chem.Draw import rdMolDraw2D\n",
    "from IPython.display import SVG\n",
    "from svglib.svglib import svg2rlg\n",
    "from reportlab.graphics import renderPDF\n",
    "import torch\n",
    "import os\n",
    "import numpy as np\n",
    "import matplotlib.pyplot as plt"
   ]
  },
  {
   "cell_type": "code",
   "execution_count": 11,
   "id": "e835e2d2-a7fb-469e-b0f2-b04a2e1598cd",
   "metadata": {},
   "outputs": [],
   "source": [
    "samples = os.listdir('outputs/sample-1_2022_03_31__09_46_24/SDF/')"
   ]
  },
  {
   "cell_type": "code",
   "execution_count": 13,
   "id": "a3e39b50-4062-4330-9d9c-19a0d208a292",
   "metadata": {},
   "outputs": [],
   "source": [
    "mol_atoms = []"
   ]
  },
  {
   "cell_type": "code",
   "execution_count": 14,
   "id": "5d914ae9-e4ae-479a-9f86-4253128887f1",
   "metadata": {},
   "outputs": [],
   "source": [
    "for sample in samples:\n",
    "    supplier = Chem.SDMolSupplier(f'outputs/sample-1_2022_03_31__09_46_24/SDF/{sample}', sanitize=False, removeHs=False)\n",
    "    mol = supplier[0]\n",
    "    mol_atoms.append(mol.GetNumAtoms())"
   ]
  },
  {
   "cell_type": "code",
   "execution_count": 19,
   "id": "74ce5775-2784-4a97-897f-c954c47feffc",
   "metadata": {},
   "outputs": [
    {
     "data": {
      "text/plain": [
       "(21.787610619469028, 5.0457224982948405)"
      ]
     },
     "execution_count": 19,
     "metadata": {},
     "output_type": "execute_result"
    }
   ],
   "source": [
    "stats = np.array(mol_atoms)\n",
    "stats.mean(), stats.std()"
   ]
  },
  {
   "cell_type": "code",
   "execution_count": 22,
   "id": "f7e923f7-4610-4a22-b6c6-50e8ac4ab956",
   "metadata": {},
   "outputs": [
    {
     "data": {
      "image/png": "[encoded data removed]",
      "text/plain": [
       "<Figure size 432x288 with 1 Axes>"
      ]
     },
     "metadata": {
      "needs_background": "light"
     },
     "output_type": "display_data"
    }
   ],
   "source": [
    "hist = plt.hist(stats, bins='auto')  "
   ]
  },
  {
   "cell_type": "code",
   "execution_count": 23,
   "id": "5a914055-f7fc-47ed-95cf-613c597e71b3",
   "metadata": {},
   "outputs": [],
   "source": [
    "supplier = Chem.SDMolSupplier('outputs/sample-1_2022_03_31__09_46_24/SDF/0.sdf', sanitize=False, removeHs=False)\n",
    "mol = supplier[0]"
   ]
  },
  {
   "cell_type": "code",
   "execution_count": 24,
   "id": "7e4d91cb-836e-47fb-9a58-f1c2c3ddafae",
   "metadata": {},
   "outputs": [
    {
     "data": {
      "image/png": "[encoded data removed]",
      "text/plain": [
       "<rdkit.Chem.rdchem.Mol at 0x7f53eaa1a8e0>"
      ]
     },
     "execution_count": 24,
     "metadata": {},
     "output_type": "execute_result"
    }
   ],
   "source": [
    "mol"
   ]
  },
  {
   "cell_type": "code",
   "execution_count": 4,
   "id": "41f1167d-6ad3-41dd-895c-d8682434d294",
   "metadata": {},
   "outputs": [],
   "source": [
    "#smiles = data['mol_smiles'][idx]\n",
    "#m = Chem.MolFromSmiles(smiles)\n",
    "\n",
    "def moltosvg(mol, molSize = (300,300), kekulize = True):\n",
    "    mc = Chem.Mol(mol.ToBinary())\n",
    "    if kekulize:\n",
    "        try:\n",
    "            Chem.Kekulize(mc)\n",
    "        except:\n",
    "            mc = Chem.Mol(mol.ToBinary())\n",
    "    if not mc.GetNumConformers():\n",
    "        rdDepictor.Compute2DCoords(mc)\n",
    "    drawer = rdMolDraw2D.MolDraw2DSVG(molSize[0],molSize[1])\n",
    "    drawer.SetFontSize(30)\n",
    "    drawer.DrawMolecule(mc)\n",
    "    drawer.FinishDrawing()\n",
    "    svg = drawer.GetDrawingText()\n",
    "    return svg.replace('svg:','')\n",
    "\n",
    "SVG(moltosvg(mol))\n",
    "with open('./test.svg', 'w') as f:\n",
    "    f.write(moltosvg(mol))\n",
    "\n",
    "drawing = svg2rlg('./test.svg')\n",
    "renderPDF.drawToFile(drawing, f\"test.pdf\")"
   ]
  },
  {
   "cell_type": "code",
   "execution_count": null,
   "id": "360585d0-0aad-43f4-a945-41530545c5f0",
   "metadata": {},
   "outputs": [],
   "source": []
  }
 ],
 "metadata": {
  "kernelspec": {
   "display_name": "Python 3",
   "language": "python",
   "name": "python3"
  },
  "language_info": {
   "codemirror_mode": {
    "name": "ipython",
    "version": 3
   },
   "file_extension": ".py",
   "mimetype": "text/x-python",
   "name": "python",
   "nbconvert_exporter": "python",
   "pygments_lexer": "ipython3",
   "version": "3.8.13"
  }
 },
 "nbformat": 4,
 "nbformat_minor": 5
}
