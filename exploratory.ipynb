{
 "cells": [
  {
   "cell_type": "code",
   "execution_count": 7,
   "id": "2639dadc-9613-4a01-a5c8-5f4c611c0048",
   "metadata": {},
   "outputs": [],
   "source": [
    "def get_stats(dictionary, stat):\n",
    "    \n",
    "    stats = np.array([dictionary[item][stat] for item in dictionary])\n",
    "    return stats, stats.mean(), stats.std()"
   ]
  },
  {
   "cell_type": "markdown",
   "id": "8b4bbecb-4ba2-472d-a4ee-56eaf407ba3c",
   "metadata": {},
   "source": [
    "## CrossDocked Summary Statistics"
   ]
  },
  {
   "cell_type": "code",
   "execution_count": 1,
   "id": "0e921c19-c34a-424a-aad2-44e81c0482cf",
   "metadata": {},
   "outputs": [
    {
     "name": "stderr",
     "output_type": "stream",
     "text": [
      "/data/scratch/draygoza/.conda/envs/SBDD/lib/python3.8/site-packages/tqdm/auto.py:22: TqdmWarning: IProgress not found. Please update jupyter and ipywidgets. See https://ipywidgets.readthedocs.io/en/stable/user_install.html\n",
      "  from .autonotebook import tqdm as notebook_tqdm\n"
     ]
    }
   ],
   "source": [
    "import os\n",
    "from rdkit import Chem\n",
    "#from explore_utils import *\n",
    "import torch\n",
    "import matplotlib.pyplot as plt"
   ]
  },
  {
   "cell_type": "code",
   "execution_count": 3,
   "id": "e1972824-1f6b-4edb-a2c3-e0c94a990bf5",
   "metadata": {},
   "outputs": [],
   "source": [
    "summary = torch.load('summary_stats.pt')"
   ]
  },
  {
   "cell_type": "code",
   "execution_count": 9,
   "id": "eecfd36d-8732-4e59-915c-784cf31e800a",
   "metadata": {},
   "outputs": [],
   "source": [
    "pockets = summary['pockets']\n",
    "ligands = summary['ligands']"
   ]
  },
  {
   "cell_type": "code",
   "execution_count": 21,
   "id": "33efda32-1515-42ac-a6e3-961456e72297",
   "metadata": {},
   "outputs": [
    {
     "name": "stdout",
     "output_type": "stream",
     "text": [
      "Number of bad pockets:  109\n",
      "Number of bad ligands:  47\n"
     ]
    }
   ],
   "source": [
    "print('Number of bad pockets: ', len(summary[\"bad_proteins\"]))\n",
    "print('Number of bad ligands: ', len(summary[\"bad_ligands\"]))"
   ]
  },
  {
   "cell_type": "code",
   "execution_count": 22,
   "id": "fa069f08-36e1-48e1-90ef-083183194d79",
   "metadata": {},
   "outputs": [
    {
     "name": "stdout",
     "output_type": "stream",
     "text": [
      "Number of unique pockets:  144830\n",
      "Number of unique ligands:  13953\n"
     ]
    }
   ],
   "source": [
    "num_pockets = len(summary[\"pockets\"])\n",
    "num_ligands = len(summary[\"ligands\"])\n",
    "print('Number of unique pockets: ', num_pockets)\n",
    "print('Number of unique ligands: ', num_ligands)"
   ]
  },
  {
   "cell_type": "code",
   "execution_count": 23,
   "id": "326f39e4-516c-4532-ae1f-2d32211f2cd9",
   "metadata": {},
   "outputs": [
    {
     "name": "stdout",
     "output_type": "stream",
     "text": [
      "pocket residues (mean, std):  (51.20274804943727, 11.923862730903897)\n"
     ]
    }
   ],
   "source": [
    "print('pocket residues (mean, std): ', get_stats(pockets, 'residues')[1:])"
   ]
  },
  {
   "cell_type": "code",
   "execution_count": 8,
   "id": "e8c12a45-52f0-45f5-a6dc-7b16d1f78df3",
   "metadata": {},
   "outputs": [
    {
     "name": "stdout",
     "output_type": "stream",
     "text": [
      "pocket atoms (mean, std):  (416.8028309051992, 118.99816136652014)\n",
      "ligand atoms (mean, std):  (25.565398122267613, 9.449540364593814)\n"
     ]
    }
   ],
   "source": [
    "print('pocket atoms (mean, std): ', get_stats(pockets, 'atoms')[1:])\n",
    "print('ligand atoms (mean, std): ', get_stats(ligands, 'atoms')[1:])"
   ]
  },
  {
   "cell_type": "code",
   "execution_count": 9,
   "id": "c5cacfad-bf4c-4223-932f-5b5a7b8e7d50",
   "metadata": {},
   "outputs": [
    {
     "name": "stdout",
     "output_type": "stream",
     "text": [
      "pocket bonds (mean, std):  (413.2228958088794, 118.95636358075343)\n",
      "ligand bonds (mean, std):  (27.582742062638857, 10.643654148463273)\n"
     ]
    }
   ],
   "source": [
    "print('pocket bonds (mean, std): ', get_stats(pockets, 'bonds')[1:])\n",
    "print('ligand bonds (mean, std): ', get_stats(ligands, 'bonds')[1:])"
   ]
  },
  {
   "cell_type": "code",
   "execution_count": 10,
   "id": "a7653bdb-71d5-4dd0-bf5a-c8c9435e80ac",
   "metadata": {},
   "outputs": [
    {
     "name": "stdout",
     "output_type": "stream",
     "text": [
      "pocket heavy atoms (mean, std):  (401.5289926120279, 89.98330200841208)\n",
      "ligand heavy atoms (mean, std):  (25.450942449652405, 9.40268183671836)\n"
     ]
    }
   ],
   "source": [
    "print('pocket heavy atoms (mean, std): ', get_stats(pockets, 'heavy')[1:])\n",
    "print('ligand heavy atoms (mean, std): ', get_stats(ligands, 'heavy')[1:])"
   ]
  },
  {
   "cell_type": "code",
   "execution_count": 11,
   "id": "f042bffe-94ed-4765-85c4-87bd73aa26fe",
   "metadata": {},
   "outputs": [
    {
     "data": {
      "image/png": "[encoded data removed]",
      "text/plain": [
       "<Figure size 432x288 with 1 Axes>"
      ]
     },
     "metadata": {
      "needs_background": "light"
     },
     "output_type": "display_data"
    }
   ],
   "source": [
    "hist = plt.hist(get_stats(ligands,'atoms')[0], bins='auto')  "
   ]
  },
  {
   "cell_type": "code",
   "execution_count": 7,
   "id": "85f65424-b72a-4315-887b-d2b29053c6f3",
   "metadata": {},
   "outputs": [],
   "source": [
    "def get_big_pockets(ligands, threshold):\n",
    "    \n",
    "    big_pocket_smiles = []\n",
    "    for ligand in ligands:\n",
    "        if ligands[ligand]['atoms'] >= threshold:\n",
    "            for protein_smile in ligands[ligand]['pockets']:\n",
    "                big_pocket_smiles.append(protein_smile)\n",
    "    \n",
    "    return set(big_pocket_smiles)"
   ]
  },
  {
   "cell_type": "code",
   "execution_count": 10,
   "id": "a3b5f713-96cb-4f00-86dc-7d48948b1bde",
   "metadata": {},
   "outputs": [],
   "source": [
    "big_pockets = get_big_pockets(ligands, 60)"
   ]
  },
  {
   "cell_type": "code",
   "execution_count": 11,
   "id": "4b3a4bc1-8a32-43bc-afdc-4c58d1a2e880",
   "metadata": {},
   "outputs": [
    {
     "data": {
      "text/plain": [
       "287"
      ]
     },
     "execution_count": 11,
     "metadata": {},
     "output_type": "execute_result"
    }
   ],
   "source": [
    "len(big_pockets)"
   ]
  },
  {
   "cell_type": "markdown",
   "id": "97e1994e-cfe3-4fd7-b9ed-96d18b498f41",
   "metadata": {},
   "source": [
    "## SBDD-3D Samples"
   ]
  },
  {
   "cell_type": "code",
   "execution_count": 1,
   "id": "6323fac3-270c-49a4-bdd9-1c280bd17aec",
   "metadata": {},
   "outputs": [
    {
     "name": "stderr",
     "output_type": "stream",
     "text": [
      "/data/scratch/draygoza/.conda/envs/SBDD/lib/python3.8/site-packages/tqdm/auto.py:22: TqdmWarning: IProgress not found. Please update jupyter and ipywidgets. See https://ipywidgets.readthedocs.io/en/stable/user_install.html\n",
      "  from .autonotebook import tqdm as notebook_tqdm\n"
     ]
    }
   ],
   "source": [
    "from rdkit import Chem\n",
    "from rdkit.Chem.Draw import IPythonConsole\n",
    "from rdkit.Chem import rdDepictor\n",
    "from rdkit.Chem.Draw import rdMolDraw2D\n",
    "from IPython.display import SVG\n",
    "from svglib.svglib import svg2rlg\n",
    "from reportlab.graphics import renderPDF\n",
    "import torch\n",
    "import os\n",
    "import numpy as np\n",
    "import matplotlib.pyplot as plt"
   ]
  },
  {
   "cell_type": "markdown",
   "id": "8102eac2-a629-4079-aaa2-71e5d56f23e1",
   "metadata": {},
   "source": [
    "### Summary Stats"
   ]
  },
  {
   "cell_type": "code",
   "execution_count": 3,
   "id": "bfbaf50a-8a4e-4428-a488-75e8a795686a",
   "metadata": {},
   "outputs": [],
   "source": [
    "summary = torch.load('pathological_stats.pt')"
   ]
  },
  {
   "cell_type": "code",
   "execution_count": 5,
   "id": "1d6fdb27-f75e-494e-a29b-4a6a73ea9c02",
   "metadata": {},
   "outputs": [],
   "source": [
    "ligands = summary['stats']"
   ]
  },
  {
   "cell_type": "code",
   "execution_count": 4,
   "id": "c803b668-424a-4b5a-9bad-3caeed94c9cd",
   "metadata": {},
   "outputs": [
    {
     "name": "stdout",
     "output_type": "stream",
     "text": [
      "Number of bad ligands:  0\n"
     ]
    }
   ],
   "source": [
    "print('Number of bad ligands: ', len(summary[\"bad_ligands\"]))"
   ]
  },
  {
   "cell_type": "code",
   "execution_count": 8,
   "id": "8b5307a8-4f76-4f29-846e-1d38148df78d",
   "metadata": {},
   "outputs": [
    {
     "name": "stdout",
     "output_type": "stream",
     "text": [
      "ligand atoms (mean, std):  (30.608923884514436, 12.843161487916639)\n",
      "ligand bonds (mean, std):  (34.879265091863516, 15.771202551045505)\n",
      "ligand heavy atoms (mean, std):  (30.608923884514436, 12.843161487916639)\n"
     ]
    }
   ],
   "source": [
    "print('ligand atoms (mean, std): ', get_stats(ligands, 'atoms')[1:])\n",
    "print('ligand bonds (mean, std): ', get_stats(ligands, 'bonds')[1:])\n",
    "print('ligand heavy atoms (mean, std): ', get_stats(ligands, 'heavy')[1:])"
   ]
  },
  {
   "cell_type": "code",
   "execution_count": 9,
   "id": "72afb6d9-ec3f-459f-bd35-42c179c8603f",
   "metadata": {},
   "outputs": [
    {
     "data": {
      "image/png": "[encoded data removed]",
      "text/plain": [
       "<Figure size 432x288 with 1 Axes>"
      ]
     },
     "metadata": {
      "needs_background": "light"
     },
     "output_type": "display_data"
    }
   ],
   "source": [
    "hist = plt.hist(get_stats(ligands,'atoms')[0], bins='auto')  "
   ]
  },
  {
   "cell_type": "code",
   "execution_count": 10,
   "id": "412c5c33-0f24-4365-95ae-63971828d36e",
   "metadata": {},
   "outputs": [
    {
     "data": {
      "text/plain": [
       "['sample-11441_2022_04_20__03_43_06',\n",
       " 'sample-9615_2022_04_20__03_06_20',\n",
       " 'sample-4892_2022_04_20__00_46_43',\n",
       " 'sample-4961_2022_04_20__01_28_46']"
      ]
     },
     "execution_count": 10,
     "metadata": {},
     "output_type": "execute_result"
    }
   ],
   "source": [
    "os.listdir('outputs')"
   ]
  },
  {
   "cell_type": "code",
   "execution_count": 11,
   "id": "5a914055-f7fc-47ed-95cf-613c597e71b3",
   "metadata": {},
   "outputs": [],
   "source": [
    "supplier = Chem.SDMolSupplier('outputs/sample-11441_2022_04_20__03_43_06/SDF/0.sdf', sanitize=False, removeHs=False)\n",
    "mol = supplier[0]"
   ]
  },
  {
   "cell_type": "code",
   "execution_count": 12,
   "id": "7e4d91cb-836e-47fb-9a58-f1c2c3ddafae",
   "metadata": {},
   "outputs": [
    {
     "data": {
      "image/png": "[encoded data removed]",
      "text/plain": [
       "<rdkit.Chem.rdchem.Mol at 0x7fde0c2f7b20>"
      ]
     },
     "execution_count": 12,
     "metadata": {},
     "output_type": "execute_result"
    }
   ],
   "source": [
    "mol"
   ]
  },
  {
   "cell_type": "code",
   "execution_count": 4,
   "id": "41f1167d-6ad3-41dd-895c-d8682434d294",
   "metadata": {},
   "outputs": [],
   "source": [
    "#smiles = data['mol_smiles'][idx]\n",
    "#m = Chem.MolFromSmiles(smiles)\n",
    "\n",
    "def moltosvg(mol, molSize = (300,300), kekulize = True):\n",
    "    mc = Chem.Mol(mol.ToBinary())\n",
    "    if kekulize:\n",
    "        try:\n",
    "            Chem.Kekulize(mc)\n",
    "        except:\n",
    "            mc = Chem.Mol(mol.ToBinary())\n",
    "    if not mc.GetNumConformers():\n",
    "        rdDepictor.Compute2DCoords(mc)\n",
    "    drawer = rdMolDraw2D.MolDraw2DSVG(molSize[0],molSize[1])\n",
    "    drawer.SetFontSize(30)\n",
    "    drawer.DrawMolecule(mc)\n",
    "    drawer.FinishDrawing()\n",
    "    svg = drawer.GetDrawingText()\n",
    "    return svg.replace('svg:','')\n",
    "\n",
    "SVG(moltosvg(mol))\n",
    "with open('./test.svg', 'w') as f:\n",
    "    f.write(moltosvg(mol))\n",
    "\n",
    "drawing = svg2rlg('./test.svg')\n",
    "renderPDF.drawToFile(drawing, f\"test.pdf\")"
   ]
  },
  {
   "cell_type": "code",
   "execution_count": null,
   "id": "5d9864cb-15cd-4e1f-b8d9-2e9a5ca40e27",
   "metadata": {},
   "outputs": [],
   "source": []
  }
 ],
 "metadata": {
  "kernelspec": {
   "display_name": "Python 3 (ipykernel)",
   "language": "python",
   "name": "python3"
  },
  "language_info": {
   "codemirror_mode": {
    "name": "ipython",
    "version": 3
   },
   "file_extension": ".py",
   "mimetype": "text/x-python",
   "name": "python",
   "nbconvert_exporter": "python",
   "pygments_lexer": "ipython3",
   "version": "3.7.12"
  }
 },
 "nbformat": 4,
 "nbformat_minor": 5
}
